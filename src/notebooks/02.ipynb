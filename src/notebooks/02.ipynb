{
 "cells": [
  {
   "cell_type": "code",
   "execution_count": 1,
   "id": "36f9a34f-f0bb-4f26-bb26-9d3961f39933",
   "metadata": {},
   "outputs": [],
   "source": [
    "import pickle\n",
    "def load_asset(path):\n",
    "    with open(path,'rb') as f:\n",
    "        asset = pickle.load(f)\n",
    "    return asset"
   ]
  },
  {
   "cell_type": "code",
   "execution_count": 2,
   "id": "5997dfda-debd-443b-b591-10d786b9aa49",
   "metadata": {},
   "outputs": [],
   "source": [
    "path_model = \"../model/clf.pkl\"\n",
    "path_enc = \"../model/encoder.pkl\"\n",
    "path_lb = \"../model/lb.pkl\""
   ]
  },
  {
   "cell_type": "code",
   "execution_count": 3,
   "id": "f92bbc06-ac6c-453f-b3d7-6b55bfcdb870",
   "metadata": {},
   "outputs": [],
   "source": [
    "import os\n",
    "os.chdir('../starter')"
   ]
  },
  {
   "cell_type": "code",
   "execution_count": 4,
   "id": "e3691e1e-f7f8-4fc2-ad6d-09b0035b1878",
   "metadata": {},
   "outputs": [],
   "source": [
    "from ml import data, model"
   ]
  },
  {
   "cell_type": "code",
   "execution_count": 5,
   "id": "d544b53e-f957-4f03-be15-8b453b6ff4ac",
   "metadata": {},
   "outputs": [],
   "source": [
    "import pandas as pd\n",
    "path = \"../data/cleaned.csv\"\n",
    "df = pd.read_csv(path)"
   ]
  },
  {
   "cell_type": "code",
   "execution_count": 6,
   "id": "83fc6da2-b76d-44ae-86c7-eed6f1c8ef46",
   "metadata": {},
   "outputs": [],
   "source": [
    "cat_features = [\n",
    "    \"workclass\",\n",
    "    \"education\",\n",
    "    \"marital-status\",\n",
    "    \"occupation\",\n",
    "    \"relationship\",\n",
    "    \"race\",\n",
    "    \"sex\",\n",
    "]"
   ]
  },
  {
   "cell_type": "code",
   "execution_count": 7,
   "id": "9ce6b39a-0e28-4b8b-b74a-2f6413b36ed2",
   "metadata": {},
   "outputs": [],
   "source": [
    "clf = load_asset(path_model)\n",
    "lb = load_asset(path_lb)\n",
    "enc = load_asset(path_enc)"
   ]
  },
  {
   "cell_type": "code",
   "execution_count": 8,
   "id": "9234bb14-20f6-4525-beed-c4bbdad3670b",
   "metadata": {},
   "outputs": [],
   "source": [
    "X,y,_,_=data.process_data(df,cat_features,label=\"salary\",training=False,encoder=enc,lb=lb)"
   ]
  },
  {
   "cell_type": "code",
   "execution_count": 9,
   "id": "51b942c6-452b-4da3-afb9-0e61604e25d0",
   "metadata": {},
   "outputs": [
    {
     "data": {
      "text/plain": [
       "(32561, 64)"
      ]
     },
     "execution_count": 9,
     "metadata": {},
     "output_type": "execute_result"
    }
   ],
   "source": [
    "X.shape"
   ]
  },
  {
   "cell_type": "code",
   "execution_count": 10,
   "id": "c6221b70-df26-40d6-b233-1c7a930bf36f",
   "metadata": {},
   "outputs": [
    {
     "data": {
      "text/plain": [
       "(32561, 12)"
      ]
     },
     "execution_count": 10,
     "metadata": {},
     "output_type": "execute_result"
    }
   ],
   "source": [
    "df.shape"
   ]
  },
  {
   "cell_type": "code",
   "execution_count": 11,
   "id": "aae30cad-6363-4909-87f3-e1523c7368ca",
   "metadata": {},
   "outputs": [
    {
     "data": {
      "text/plain": [
       "Index(['age', 'workclass', 'education', 'marital-status', 'occupation',\n",
       "       'relationship', 'race', 'sex', 'capital-gain', 'capital-loss',\n",
       "       'hours-per-week', 'salary'],\n",
       "      dtype='object')"
      ]
     },
     "execution_count": 11,
     "metadata": {},
     "output_type": "execute_result"
    }
   ],
   "source": [
    "df.columns"
   ]
  },
  {
   "cell_type": "code",
   "execution_count": 12,
   "id": "59daf44c-b720-4f67-b9f9-e5e489393896",
   "metadata": {},
   "outputs": [
    {
     "name": "stdout",
     "output_type": "stream",
     "text": [
      "<class 'pandas.core.frame.DataFrame'>\n",
      "RangeIndex: 32561 entries, 0 to 32560\n",
      "Data columns (total 12 columns):\n",
      " #   Column          Non-Null Count  Dtype \n",
      "---  ------          --------------  ----- \n",
      " 0   age             32561 non-null  int64 \n",
      " 1   workclass       32561 non-null  object\n",
      " 2   education       32561 non-null  object\n",
      " 3   marital-status  32561 non-null  object\n",
      " 4   occupation      32561 non-null  object\n",
      " 5   relationship    32561 non-null  object\n",
      " 6   race            32561 non-null  object\n",
      " 7   sex             32561 non-null  object\n",
      " 8   capital-gain    32561 non-null  int64 \n",
      " 9   capital-loss    32561 non-null  int64 \n",
      " 10  hours-per-week  32561 non-null  int64 \n",
      " 11  salary          32561 non-null  object\n",
      "dtypes: int64(4), object(8)\n",
      "memory usage: 3.0+ MB\n"
     ]
    }
   ],
   "source": [
    "df.info()"
   ]
  },
  {
   "cell_type": "code",
   "execution_count": 13,
   "id": "7e73198d-019f-47a0-aba1-411995befb7f",
   "metadata": {},
   "outputs": [],
   "source": [
    "from pydantic import BaseModel\n",
    "from typing import Literal"
   ]
  },
  {
   "cell_type": "code",
   "execution_count": 14,
   "id": "69c5e234-e7d1-4f57-bb45-18716d5f252e",
   "metadata": {},
   "outputs": [
    {
     "data": {
      "text/plain": [
       "array(['State-gov', 'Self-emp-not-inc', 'Private', 'Federal-gov',\n",
       "       'Local-gov', '?', 'Self-emp-inc', 'Without-pay', 'Never-worked'],\n",
       "      dtype=object)"
      ]
     },
     "execution_count": 14,
     "metadata": {},
     "output_type": "execute_result"
    }
   ],
   "source": [
    "df['workclass'].unique()"
   ]
  },
  {
   "cell_type": "code",
   "execution_count": 15,
   "id": "75a5f55c-5ee4-422d-9190-62d65a00191b",
   "metadata": {},
   "outputs": [
    {
     "data": {
      "text/plain": [
       "array(['Bachelors', 'HS-grad', '11th', 'Masters', '9th', 'Some-college',\n",
       "       'Assoc-acdm', 'Assoc-voc', '7th-8th', 'Doctorate', 'Prof-school',\n",
       "       '5th-6th', '10th', '1st-4th', 'Preschool', '12th'], dtype=object)"
      ]
     },
     "execution_count": 15,
     "metadata": {},
     "output_type": "execute_result"
    }
   ],
   "source": [
    "df['education'].unique()"
   ]
  },
  {
   "cell_type": "code",
   "execution_count": 16,
   "id": "aa605105-c185-416e-8c89-c42bd324440d",
   "metadata": {},
   "outputs": [
    {
     "data": {
      "text/plain": [
       "array(['Never-married', 'Married-civ-spouse', 'Divorced',\n",
       "       'Married-spouse-absent', 'Separated', 'Married-AF-spouse',\n",
       "       'Widowed'], dtype=object)"
      ]
     },
     "execution_count": 16,
     "metadata": {},
     "output_type": "execute_result"
    }
   ],
   "source": [
    "df['marital-status'].unique()"
   ]
  },
  {
   "cell_type": "code",
   "execution_count": 17,
   "id": "8cfb4ff8-2046-4981-aec5-c9d50508766d",
   "metadata": {},
   "outputs": [
    {
     "data": {
      "text/plain": [
       "array(['Adm-clerical', 'Exec-managerial', 'Handlers-cleaners',\n",
       "       'Prof-specialty', 'Other-service', 'Sales', 'Craft-repair',\n",
       "       'Transport-moving', 'Farming-fishing', 'Machine-op-inspct',\n",
       "       'Tech-support', '?', 'Protective-serv', 'Armed-Forces',\n",
       "       'Priv-house-serv'], dtype=object)"
      ]
     },
     "execution_count": 17,
     "metadata": {},
     "output_type": "execute_result"
    }
   ],
   "source": [
    "df['occupation'].unique()"
   ]
  },
  {
   "cell_type": "code",
   "execution_count": 18,
   "id": "4104e21d-529d-4f45-921d-64de2918577c",
   "metadata": {},
   "outputs": [
    {
     "data": {
      "text/plain": [
       "array(['Not-in-family', 'Husband', 'Wife', 'Own-child', 'Unmarried',\n",
       "       'Other-relative'], dtype=object)"
      ]
     },
     "execution_count": 18,
     "metadata": {},
     "output_type": "execute_result"
    }
   ],
   "source": [
    "df['relationship'].unique()"
   ]
  },
  {
   "cell_type": "code",
   "execution_count": 19,
   "id": "5e966e63-eba9-44cd-a1a1-72cee523dbf8",
   "metadata": {},
   "outputs": [
    {
     "data": {
      "text/plain": [
       "array(['White', 'Black', 'Asian-Pac-Islander', 'Amer-Indian-Eskimo',\n",
       "       'Other'], dtype=object)"
      ]
     },
     "execution_count": 19,
     "metadata": {},
     "output_type": "execute_result"
    }
   ],
   "source": [
    "df['race'].unique()"
   ]
  },
  {
   "cell_type": "code",
   "execution_count": 20,
   "id": "04537486-f7b5-4e22-b38c-7eb0d14ff2e1",
   "metadata": {},
   "outputs": [
    {
     "data": {
      "text/plain": [
       "array(['Male', 'Female'], dtype=object)"
      ]
     },
     "execution_count": 20,
     "metadata": {},
     "output_type": "execute_result"
    }
   ],
   "source": [
    "df['sex'].unique()"
   ]
  },
  {
   "cell_type": "code",
   "execution_count": 21,
   "id": "f8b175a0-7063-4a09-a499-7afcf5aabfc9",
   "metadata": {},
   "outputs": [],
   "source": [
    "class Predictor(BaseModel):\n",
    "    age: int\n",
    "    workclass: Literal['State-gov', 'Self-emp-not-inc', 'Private', 'Federal-gov',\n",
    "       'Local-gov', '?', 'Self-emp-inc', 'Without-pay', 'Never-worked']\n",
    "    education: Literal['Bachelors', 'HS-grad', '11th', 'Masters', '9th', 'Some-college',\n",
    "       'Assoc-acdm', 'Assoc-voc', '7th-8th', 'Doctorate', 'Prof-school',\n",
    "       '5th-6th', '10th', '1st-4th', 'Preschool', '12th']\n",
    "    marital_status: Literal['Never-married', 'Married-civ-spouse', 'Divorced',\n",
    "       'Married-spouse-absent', 'Separated', 'Married-AF-spouse',\n",
    "       'Widowed']\n",
    "    occupation: Literal['Adm-clerical', 'Exec-managerial', 'Handlers-cleaners',\n",
    "       'Prof-specialty', 'Other-service', 'Sales', 'Craft-repair',\n",
    "       'Transport-moving', 'Farming-fishing', 'Machine-op-inspct',\n",
    "       'Tech-support', '?', 'Protective-serv', 'Armed-Forces',\n",
    "       'Priv-house-serv']\n",
    "    relationship: Literal['Not-in-family', 'Husband', 'Wife', 'Own-child', 'Unmarried',\n",
    "       'Other-relative']\n",
    "    race: Literal['White', 'Black', 'Asian-Pac-Islander', 'Amer-Indian-Eskimo',\n",
    "       'Other']\n",
    "    sex: Literal['Male', 'Female']\n",
    "    capital_gain:int\n",
    "    capital_loss:int\n",
    "    hours_per_week:int\n",
    "    "
   ]
  },
  {
   "cell_type": "code",
   "execution_count": 24,
   "id": "67d941dc-bd17-4a9a-bcdc-85a514bc31c8",
   "metadata": {},
   "outputs": [],
   "source": [
    "preds = model.inference(clf,X)"
   ]
  },
  {
   "cell_type": "code",
   "execution_count": 26,
   "id": "4c92582b-5c38-4934-bda1-61d1d228b16d",
   "metadata": {},
   "outputs": [
    {
     "data": {
      "text/plain": [
       "(0.9166888829645428, 0.8770564978956765, 0.8964348562862542)"
      ]
     },
     "execution_count": 26,
     "metadata": {},
     "output_type": "execute_result"
    }
   ],
   "source": [
    "model.compute_model_metrics(y,preds)"
   ]
  },
  {
   "cell_type": "code",
   "execution_count": null,
   "id": "6cbb9c44-099b-4056-b7e2-abe87029ed40",
   "metadata": {},
   "outputs": [],
   "source": []
  }
 ],
 "metadata": {
  "kernelspec": {
   "display_name": "Python 3 (ipykernel)",
   "language": "python",
   "name": "python3"
  },
  "language_info": {
   "codemirror_mode": {
    "name": "ipython",
    "version": 3
   },
   "file_extension": ".py",
   "mimetype": "text/x-python",
   "name": "python",
   "nbconvert_exporter": "python",
   "pygments_lexer": "ipython3",
   "version": "3.8.13"
  }
 },
 "nbformat": 4,
 "nbformat_minor": 5
}
